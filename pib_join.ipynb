{
 "cells": [
  {
   "cell_type": "code",
   "execution_count": 1,
   "metadata": {},
   "outputs": [],
   "source": [
    "# Import libraries\n",
    "import pandas as pd\n",
    "import numpy as np"
   ]
  },
  {
   "cell_type": "code",
   "execution_count": 2,
   "metadata": {},
   "outputs": [],
   "source": [
    "# Read data from folders\n",
    "covid_data = pd.read_csv(\"covid19.txt\")\n",
    "gdp_data = pd.read_csv(\"gdp_csv.txt\")"
   ]
  },
  {
   "cell_type": "code",
   "execution_count": 5,
   "metadata": {},
   "outputs": [],
   "source": [
    "# Group gdp data and get its latest value\n",
    "gdp_data = gdp_data.groupby(by=[\"Country Code\"]).last()\n",
    "\n",
    "# Set the countrycode as index\n",
    "gdp_data['countryterritoryCode'] = gdp_data.index\n",
    "\n",
    "# Save gdp data\n",
    "gdp_data['gdp'] = pib_data[\"Value\"]\n",
    "\n",
    "# Drop unnecesary columns\n",
    "gdp_data = gdp_data.drop(columns=[\"Value\",\"Country Name\", \"Year\"])"
   ]
  },
  {
   "cell_type": "code",
   "execution_count": 6,
   "metadata": {},
   "outputs": [
    {
     "data": {
      "text/html": [
       "<div>\n",
       "<style scoped>\n",
       "    .dataframe tbody tr th:only-of-type {\n",
       "        vertical-align: middle;\n",
       "    }\n",
       "\n",
       "    .dataframe tbody tr th {\n",
       "        vertical-align: top;\n",
       "    }\n",
       "\n",
       "    .dataframe thead th {\n",
       "        text-align: right;\n",
       "    }\n",
       "</style>\n",
       "<table border=\"1\" class=\"dataframe\">\n",
       "  <thead>\n",
       "    <tr style=\"text-align: right;\">\n",
       "      <th></th>\n",
       "      <th>countryterritoryCode</th>\n",
       "      <th>pib</th>\n",
       "    </tr>\n",
       "    <tr>\n",
       "      <th>Country Code</th>\n",
       "      <th></th>\n",
       "      <th></th>\n",
       "    </tr>\n",
       "  </thead>\n",
       "  <tbody>\n",
       "    <tr>\n",
       "      <th>ABW</th>\n",
       "      <td>ABW</td>\n",
       "      <td>2.584464e+09</td>\n",
       "    </tr>\n",
       "    <tr>\n",
       "      <th>AFG</th>\n",
       "      <td>AFG</td>\n",
       "      <td>1.946902e+10</td>\n",
       "    </tr>\n",
       "    <tr>\n",
       "      <th>AGO</th>\n",
       "      <td>AGO</td>\n",
       "      <td>9.533511e+10</td>\n",
       "    </tr>\n",
       "    <tr>\n",
       "      <th>ALB</th>\n",
       "      <td>ALB</td>\n",
       "      <td>1.186387e+10</td>\n",
       "    </tr>\n",
       "    <tr>\n",
       "      <th>AND</th>\n",
       "      <td>AND</td>\n",
       "      <td>2.858518e+09</td>\n",
       "    </tr>\n",
       "  </tbody>\n",
       "</table>\n",
       "</div>"
      ],
      "text/plain": [
       "             countryterritoryCode           pib\n",
       "Country Code                                   \n",
       "ABW                           ABW  2.584464e+09\n",
       "AFG                           AFG  1.946902e+10\n",
       "AGO                           AGO  9.533511e+10\n",
       "ALB                           ALB  1.186387e+10\n",
       "AND                           AND  2.858518e+09"
      ]
     },
     "execution_count": 6,
     "metadata": {},
     "output_type": "execute_result"
    }
   ],
   "source": [
    "gdp_data.head()"
   ]
  },
  {
   "cell_type": "code",
   "execution_count": 7,
   "metadata": {},
   "outputs": [],
   "source": [
    "# Join datagrames by the countrycode\n",
    "covid_19_with_pibs = covid_data.join(gdp_data.set_index('countryterritoryCode'), on='countryterritoryCode')"
   ]
  },
  {
   "cell_type": "code",
   "execution_count": 10,
   "metadata": {},
   "outputs": [],
   "source": [
    "# Convert date values to datetime\n",
    "covid_19_with_pibs['dateRep'] =  pd.to_datetime(covid_19_with_pibs['dateRep'],\n",
    "                              format='%d/%m/%y',errors='ignore')"
   ]
  },
  {
   "cell_type": "code",
   "execution_count": 12,
   "metadata": {},
   "outputs": [],
   "source": [
    "# Save csv file\n",
    "covid_19_with_pibs.to_csv('covid_19_converted.csv') "
   ]
  }
 ],
 "metadata": {
  "kernelspec": {
   "display_name": "Python 3",
   "language": "python",
   "name": "python3"
  },
  "language_info": {
   "codemirror_mode": {
    "name": "ipython",
    "version": 3
   },
   "file_extension": ".py",
   "mimetype": "text/x-python",
   "name": "python",
   "nbconvert_exporter": "python",
   "pygments_lexer": "ipython3",
   "version": "3.7.3"
  }
 },
 "nbformat": 4,
 "nbformat_minor": 2
}